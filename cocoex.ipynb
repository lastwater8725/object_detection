{
 "cells": [
  {
   "cell_type": "markdown",
   "metadata": {},
   "source": [
    "### COCOdataset \n",
    "- objectdetection, segmentation, keypoint detection등을 위한 데이터셋"
   ]
  },
  {
   "cell_type": "markdown",
   "metadata": {},
   "source": [
    "### COCO 특징\n",
    "- 여러 이미지의 annotation의 하나의 json파일로 표현\n",
    "- json 파일은 \n",
    "1. info(데이터셋의 버전, 생성일자등의 헤더 정보)\n",
    "2. license(이미지 파일의 라이센스 정보, url, id등)\n",
    "3. image(모든 이미지의 고유 id, 파일명, width, height정보)\n",
    "4. annotations(image Id- 여러 객체가 존재할수 있기에, 여러개의 object id, bbox, segmentation 정보)\n",
    "5. categories(object category id, 이름, super category등)"
   ]
  },
  {
   "cell_type": "markdown",
   "metadata": {},
   "source": [
    "- image_id는 해당 annotation이 어떤 image인지 매핑\n",
    "- category_id는 해당 annotation의 object가 어떤 category에 속하는지 매핑\n",
    "- bbox는 x,y,width,height 정보\n",
    "- segmentation은 각 class에 해당하는 픽셀의 x,y좌표임"
   ]
  },
  {
   "cell_type": "markdown",
   "metadata": {},
   "source": []
  }
 ],
 "metadata": {
  "language_info": {
   "name": "python"
  }
 },
 "nbformat": 4,
 "nbformat_minor": 2
}
